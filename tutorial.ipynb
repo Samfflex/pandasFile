{
 "cells": [
  {
   "cell_type": "code",
   "execution_count": null,
   "id": "3215b12e",
   "metadata": {},
   "outputs": [],
   "source": []
  },
  {
   "cell_type": "code",
   "execution_count": 4,
   "id": "5395f7fe",
   "metadata": {},
   "outputs": [],
   "source": [
    "import pandas as pd"
   ]
  },
  {
   "cell_type": "code",
   "execution_count": 8,
   "id": "2aee5ce4",
   "metadata": {},
   "outputs": [
    {
     "name": "stdout",
     "output_type": "stream",
     "text": [
      "       name  Age   state  country\n",
      "0     jafar   21   Lagos  Nigeria\n",
      "1      Anas   12  London  England\n",
      "2    Anisha   13    Ogun  Nigeria\n",
      "3  Marusoft   40     Oyo  Nigeria\n"
     ]
    }
   ],
   "source": [
    "users ={'name':    ['jafar', 'Anas', 'Anisha', 'Marusoft'],\n",
    "        'Age':     [21, 12, 13, 40],\n",
    "        'state':   ['Lagos', 'London', 'Ogun', 'Oyo'],\n",
    "        'country': ['Nigeria', 'England', 'Nigeria','Nigeria']}\n",
    "\n",
    "data = pd.DataFrame(users)\n",
    "print(data)"
   ]
  }
 ],
 "metadata": {
  "kernelspec": {
   "display_name": "flex",
   "language": "python",
   "name": "python3"
  },
  "language_info": {
   "codemirror_mode": {
    "name": "ipython",
    "version": 3
   },
   "file_extension": ".py",
   "mimetype": "text/x-python",
   "name": "python",
   "nbconvert_exporter": "python",
   "pygments_lexer": "ipython3",
   "version": "3.11.5"
  }
 },
 "nbformat": 4,
 "nbformat_minor": 5
}
