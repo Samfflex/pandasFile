{
 "cells": [
  {
   "cell_type": "code",
   "execution_count": 5,
   "metadata": {},
   "outputs": [
    {
     "name": "stdout",
     "output_type": "stream",
     "text": [
      "   original_column_name new_column_name\n",
      "0                     1           Shayo\n",
      "1                     2            Dayo\n",
      "2                     3           Tunde\n",
      "3                     4          Ibukun\n",
      "4                     5         Charles\n"
     ]
    }
   ],
   "source": [
    "import pandas as pd\n",
    "\n",
    "data ={'original_column_name': [1, 2, 3, 4, 5],\n",
    "    'new_column_name':['Shayo', 'Dayo', 'Tunde', 'Ibukun', 'Charles']}\n",
    "\n",
    "df =pd.DataFrame(data)\n",
    "\n",
    "print(df)"
   ]
  }
 ],
 "metadata": {
  "kernelspec": {
   "display_name": "flex",
   "language": "python",
   "name": "python3"
  },
  "language_info": {
   "codemirror_mode": {
    "name": "ipython",
    "version": 3
   },
   "file_extension": ".py",
   "mimetype": "text/x-python",
   "name": "python",
   "nbconvert_exporter": "python",
   "pygments_lexer": "ipython3",
   "version": "3.11.5"
  }
 },
 "nbformat": 4,
 "nbformat_minor": 2
}
