{
 "cells": [
  {
   "cell_type": "code",
   "execution_count": 7,
   "id": "5395f7fe",
   "metadata": {},
   "outputs": [],
   "source": [
    "import pandas as pd"
   ]
  },
  {
   "cell_type": "code",
   "execution_count": 8,
   "id": "2aee5ce4",
   "metadata": {},
   "outputs": [
    {
     "name": "stdout",
     "output_type": "stream",
     "text": [
      "       name  Age   state  country\n",
      "0     jafar   21   Lagos  Nigeria\n",
      "1      Anas   12  London  England\n",
      "2    Anisha   13    Ogun  Nigeria\n",
      "3  Marusoft   40     Oyo  Nigeria\n"
     ]
    }
   ],
   "source": [
    "users ={'name':    ['jafar', 'Anas', 'Anisha', 'Marusoft'],\n",
    "        'Age':     [21, 12, 13, 40],\n",
    "        'state':   ['Lagos', 'London', 'Ogun', 'Oyo'],\n",
    "        'country': ['Nigeria', 'England', 'Nigeria','Nigeria']}\n",
    "\n",
    "data = pd.DataFrame(users)\n",
    "print(data)"
   ]
  },
  {
   "cell_type": "code",
   "execution_count": 9,
   "id": "fb4c154c",
   "metadata": {},
   "outputs": [
    {
     "name": "stdout",
     "output_type": "stream",
     "text": [
      "2017 sales    23\n",
      "2018 sales    45\n",
      "2019 sales    56\n",
      "2020 sales    70\n",
      "Name: ballon sales, dtype: int64\n"
     ]
    }
   ],
   "source": [
    "# Write a Python program that reads a text file and counts the number of words in it.\n",
    "#  Exclude common words like \"the,\" \"and,\" and \"in.\" \n",
    "# Display the word count and a list of the most frequently used words.\n",
    "\n",
    "dfseries = pd.Series([23, 45, 56,70], index=['2017 sales', '2018 sales', '2019 sales', '2020 sales'], name='ballon sales')\n",
    "print(dfseries)"
   ]
  },
  {
   "cell_type": "code",
   "execution_count": 10,
   "id": "21c89418",
   "metadata": {},
   "outputs": [
    {
     "name": "stdout",
     "output_type": "stream",
     "text": [
      "2017 sales    23\n",
      "2018 sales    45\n",
      "2019 sales    56\n",
      "2020 sales    70\n",
      "Name: ballon sales, dtype: int64\n"
     ]
    }
   ],
   "source": [
    "dfseries = pd.Series([23, 45, 56,70], index=['2017 sales', '2018 sales', '2019 sales', '2020 sales'], name='ballon sales')\n",
    "print(dfseries)"
   ]
  },
  {
   "cell_type": "code",
   "execution_count": 11,
   "id": "1d27bc48",
   "metadata": {},
   "outputs": [
    {
     "ename": "ValueError",
     "evalue": "Must provide an even number of non-keyword arguments",
     "output_type": "error",
     "traceback": [
      "\u001b[1;31m---------------------------------------------------------------------------\u001b[0m",
      "\u001b[1;31mValueError\u001b[0m                                Traceback (most recent call last)",
      "\u001b[1;32mc:\\Users\\user\\Documents\\pandas\\tutorial.ipynb Cell 5\u001b[0m line \u001b[0;36m3\n\u001b[0;32m      <a href='vscode-notebook-cell:/c%3A/Users/user/Documents/pandas/tutorial.ipynb#W4sZmlsZQ%3D%3D?line=0'>1</a>\u001b[0m csvDf \u001b[39m=\u001b[39mpd\u001b[39m.\u001b[39mread_csv(\u001b[39m'\u001b[39m\u001b[39m./Netflix subscription fee Dec-2021 - Netflix subscription fee Dec-2021.csv\u001b[39m\u001b[39m'\u001b[39m)\n\u001b[0;32m      <a href='vscode-notebook-cell:/c%3A/Users/user/Documents/pandas/tutorial.ipynb#W4sZmlsZQ%3D%3D?line=1'>2</a>\u001b[0m csvDf\n\u001b[1;32m----> <a href='vscode-notebook-cell:/c%3A/Users/user/Documents/pandas/tutorial.ipynb#W4sZmlsZQ%3D%3D?line=2'>3</a>\u001b[0m pd\u001b[39m.\u001b[39;49mset_option(\u001b[39m'\u001b[39;49m\u001b[39mdisplay\u001b[39;49m\u001b[39m'\u001b[39;49m)\n",
      "File \u001b[1;32mc:\\Users\\user\\anaconda3\\envs\\flex\\Lib\\site-packages\\pandas\\_config\\config.py:272\u001b[0m, in \u001b[0;36mCallableDynamicDoc.__call__\u001b[1;34m(self, *args, **kwds)\u001b[0m\n\u001b[0;32m    271\u001b[0m \u001b[39mdef\u001b[39;00m \u001b[39m__call__\u001b[39m(\u001b[39mself\u001b[39m, \u001b[39m*\u001b[39margs, \u001b[39m*\u001b[39m\u001b[39m*\u001b[39mkwds) \u001b[39m-\u001b[39m\u001b[39m>\u001b[39m T:\n\u001b[1;32m--> 272\u001b[0m     \u001b[39mreturn\u001b[39;00m \u001b[39mself\u001b[39;49m\u001b[39m.\u001b[39;49m\u001b[39m__func__\u001b[39;49m(\u001b[39m*\u001b[39;49margs, \u001b[39m*\u001b[39;49m\u001b[39m*\u001b[39;49mkwds)\n",
      "File \u001b[1;32mc:\\Users\\user\\anaconda3\\envs\\flex\\Lib\\site-packages\\pandas\\_config\\config.py:157\u001b[0m, in \u001b[0;36m_set_option\u001b[1;34m(*args, **kwargs)\u001b[0m\n\u001b[0;32m    155\u001b[0m nargs \u001b[39m=\u001b[39m \u001b[39mlen\u001b[39m(args)\n\u001b[0;32m    156\u001b[0m \u001b[39mif\u001b[39;00m \u001b[39mnot\u001b[39;00m nargs \u001b[39mor\u001b[39;00m nargs \u001b[39m%\u001b[39m \u001b[39m2\u001b[39m \u001b[39m!=\u001b[39m \u001b[39m0\u001b[39m:\n\u001b[1;32m--> 157\u001b[0m     \u001b[39mraise\u001b[39;00m \u001b[39mValueError\u001b[39;00m(\u001b[39m\"\u001b[39m\u001b[39mMust provide an even number of non-keyword arguments\u001b[39m\u001b[39m\"\u001b[39m)\n\u001b[0;32m    159\u001b[0m \u001b[39m# default to false\u001b[39;00m\n\u001b[0;32m    160\u001b[0m silent \u001b[39m=\u001b[39m kwargs\u001b[39m.\u001b[39mpop(\u001b[39m\"\u001b[39m\u001b[39msilent\u001b[39m\u001b[39m\"\u001b[39m, \u001b[39mFalse\u001b[39;00m)\n",
      "\u001b[1;31mValueError\u001b[0m: Must provide an even number of non-keyword arguments"
     ]
    }
   ],
   "source": [
    "csvDf =pd.read_csv('./Netflix subscription fee Dec-2021 - Netflix subscription fee Dec-2021.csv')\n",
    "csvDf\n",
    "pd.set_option('display')"
   ]
  },
  {
   "cell_type": "code",
   "execution_count": null,
   "id": "682e616e",
   "metadata": {},
   "outputs": [
    {
     "ename": "",
     "evalue": "",
     "output_type": "error",
     "traceback": [
      "\u001b[1;31mFailed to start the Kernel. \n",
      "\u001b[1;31mUnable to start Kernel 'flex (Python 3.11.5)' due to a timeout waiting for the ports to get used. \n",
      "\u001b[1;31mView Jupyter <a href='command:jupyter.viewOutput'>log</a> for further details."
     ]
    }
   ],
   "source": [
    "excelDf = pd.read_excel('./JSS 1 BROADSHEET.xlsx')\n",
    "excelDf"
   ]
  },
  {
   "cell_type": "code",
   "execution_count": null,
   "id": "acd7ea71",
   "metadata": {},
   "outputs": [
    {
     "ename": "",
     "evalue": "",
     "output_type": "error",
     "traceback": [
      "\u001b[1;31mFailed to start the Kernel. \n",
      "\u001b[1;31mUnable to start Kernel 'flex (Python 3.11.5)' due to a timeout waiting for the ports to get used. \n",
      "\u001b[1;31mView Jupyter <a href='command:jupyter.viewOutput'>log</a> for further details."
     ]
    }
   ],
   "source": [
    "textDf =pd.read_excel('./test.xlsx')\n",
    "textDf "
   ]
  },
  {
   "cell_type": "code",
   "execution_count": null,
   "id": "2169172d",
   "metadata": {},
   "outputs": [
    {
     "ename": "",
     "evalue": "",
     "output_type": "error",
     "traceback": [
      "\u001b[1;31mFailed to start the Kernel. \n",
      "\u001b[1;31mUnable to start Kernel 'flex (Python 3.11.5)' due to a timeout waiting for the ports to get used. \n",
      "\u001b[1;31mView Jupyter <a href='command:jupyter.viewOutput'>log</a> for further details."
     ]
    }
   ],
   "source": [
    "studentMF = { 'name': ['dangote', 'Lafarge', 'Ibeto', 'BUA', 'kunle', 'shayo', 'jackson'],\n",
    "              'Age': [ '28', '18', '21', '31', '19', '38', '22'],\n",
    "              'Height':['5', '6', '4', '5', '5', '6', '7'],\n",
    "              'weight': ['74', '55', '90', '66', '76', '77','56'],\n",
    "              'Gender': ['M', 'M', 'F', 'M', 'F', 'M', 'F'],\n",
    "              'Country':['Nigeria', 'China', 'Hungary', 'Spain', 'England', 'Ghana', 'Togo'] }\n",
    "infoTech =pd.DataFrame(studentMF)\n",
    "print(infoTech)"
   ]
  },
  {
   "cell_type": "code",
   "execution_count": null,
   "id": "16637e66",
   "metadata": {},
   "outputs": [
    {
     "ename": "",
     "evalue": "",
     "output_type": "error",
     "traceback": [
      "\u001b[1;31mFailed to start the Kernel. \n",
      "\u001b[1;31mUnable to start Kernel 'flex (Python 3.11.5)' due to a timeout waiting for the ports to get used. \n",
      "\u001b[1;31mView Jupyter <a href='command:jupyter.viewOutput'>log</a> for further details."
     ]
    }
   ],
   "source": [
    ".to_excel('studentMf.xlsx', index=False)"
   ]
  }
 ],
 "metadata": {
  "kernelspec": {
   "display_name": "flex",
   "language": "python",
   "name": "python3"
  },
  "language_info": {
   "codemirror_mode": {
    "name": "ipython",
    "version": 3
   },
   "file_extension": ".py",
   "mimetype": "text/x-python",
   "name": "python",
   "nbconvert_exporter": "python",
   "pygments_lexer": "ipython3",
   "version": "3.11.5"
  }
 },
 "nbformat": 4,
 "nbformat_minor": 5
}
